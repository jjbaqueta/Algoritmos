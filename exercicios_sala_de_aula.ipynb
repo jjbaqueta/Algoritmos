{
 "cells": [
  {
   "cell_type": "markdown",
   "metadata": {},
   "source": [
    "# Exercícios realizados em sala de aula\n",
    "\n",
    "Esse arquivo contém a resolução de alguns exercícios apresentados durante as aulas da disciplina. \n",
    "\n",
    "Lembre-se, o comando “%%file” é utilizado pelo python para criar o arquivo com o código C em sua máquina local (no diretório onde este notebook está salvo). O arquivo .c criado é nomeado de acordo com o identificador que aparece após o comando “%%file”."
   ]
  },
  {
   "cell_type": "markdown",
   "metadata": {},
   "source": [
    "Aula 7 - Escreva um programa capaz de realizar as operações aritméticas básicas. O usuário irá informar dois números reais e em seguida a operação aritmética que deseja realizar (‘+’ ‘-’ ‘*’ ‘/’). O programa deve exibir o resultado da operação como saída. Implemente duas versões do programa, uma utilizando o comando switch case e outra utilizando a estrutura else if."
   ]
  },
  {
   "cell_type": "code",
   "execution_count": null,
   "metadata": {},
   "outputs": [],
   "source": [
    "%%file aula7Switch.c\n",
    "\n",
    "#include <stdio.h>\n",
    "\n",
    "int main(){\n",
    "\n",
    "    float op1, op2;\n",
    "    char operacao;\n",
    "\n",
    "    printf(\"informe os operandos\\n\");\n",
    "    scanf(\"%f %f\",&op1, &op2);\n",
    "\n",
    "    __fpurge(stdin);    //no windows utilize: fflush(stdin);\n",
    "\n",
    "    printf(\"informe a operação\\n\");\n",
    "    scanf(\"%c\",&operacao);\n",
    "    \n",
    "    switch(operacao){\n",
    "        case '+':\n",
    "            printf(\"soma: %f\\n\", op1 + op2);\n",
    "        break;\n",
    "\n",
    "        case '-':\n",
    "            printf(\"sub: %f\\n\", op1 - op2);\n",
    "        break;\n",
    "\n",
    "        case '*':\n",
    "            printf(\"mul: %f\\n\", op1 * op2);\n",
    "        break;\n",
    "\n",
    "        case '/':\n",
    "            printf(\"div: %f\\n\", op1 / op2);\n",
    "        break;\n",
    "\n",
    "        default:\n",
    "            printf(\"operação não é válida\\n\");     \n",
    "    }\n",
    "    \n",
    "    return 0;\n",
    "}"
   ]
  },
  {
   "cell_type": "code",
   "execution_count": null,
   "metadata": {},
   "outputs": [],
   "source": [
    "%%file aula7ElseIf.c\n",
    "\n",
    "#include <stdio.h>\n",
    "\n",
    "int main(){\n",
    "\n",
    "    float op1, op2;\n",
    "    char operacao;\n",
    "\n",
    "    printf(\"informe os operandos\\n\");\n",
    "    scanf(\"%f %f\",&op1, &op2);\n",
    "\n",
    "    __fpurge(stdin);    //no windows utilize: fflush(stdin);\n",
    "\n",
    "    printf(\"informe a operação\\n\");\n",
    "    scanf(\"%c\",&operacao);\n",
    "    \n",
    "    if (operacao == '+'){\n",
    "        printf(\"soma: %f\\n\", op1 + op2);\n",
    "    }\n",
    "    else if (operacao == '-'){\n",
    "        printf(\"sub: %f\\n\", op1 - op2);\n",
    "    }\n",
    "    else if (operacao == '*'){\n",
    "        printf(\"mul: %f\\n\", op1 * op2);\n",
    "    }\n",
    "    else if (operacao == '/'){\n",
    "        printf(\"div: %f\\n\", op1 / op2);\n",
    "    }\n",
    "    else{\n",
    "        printf(\"operação não é válida\\n\");\n",
    "    }\n",
    "    \n",
    "    return 0;\n",
    "}"
   ]
  },
  {
   "cell_type": "markdown",
   "metadata": {},
   "source": [
    "Aula 9 - Escreva um programa que, com base em um intervalo numérico informado pelo usuário (v1 .. vn), exiba as seguintes informações:\n",
    "-   Quantidade de números pares;\n",
    "-   Quantidade de números ímpares;\n",
    "-   A média dos valores do intervalo.\n"
   ]
  },
  {
   "cell_type": "code",
   "execution_count": null,
   "metadata": {},
   "outputs": [],
   "source": [
    "%%file aula9For.c\n",
    "\n",
    "#include <stdio.h>\n",
    "\n",
    "int main(){\n",
    "\n",
    "    int par = 0, impar = 0, cont = 0, v1, v2;\n",
    "    float media = 0;\n",
    "\n",
    "    printf(\"Informe o valor inicial do intervalo\\n\");\n",
    "    scanf(\"%d\",&v1);\n",
    "\n",
    "    printf(\"Informe o valor final do intervalo\\n\");\n",
    "    scanf(\"%d\",&v2);\n",
    "\n",
    "    for (int i = v1; i <= v2; i++){\n",
    "        if (i % 2 == 0){\n",
    "            par++;\n",
    "        }\n",
    "        else {\n",
    "            impar++;\n",
    "        }\n",
    "        media += i;\n",
    "        cont++;\n",
    "    }\n",
    "    media /= cont;\n",
    "\n",
    "    printf(\"Quantidade de números pares: %d\\n\", par);\n",
    "    printf(\"Quantidade de números ímpares: %d\\n\", impar);\n",
    "    printf(\"Média: %f\\n\", media);\n",
    "    \n",
    "    return 0;\n",
    "}"
   ]
  }
 ],
 "metadata": {
  "kernelspec": {
   "display_name": "Python 3",
   "language": "python",
   "name": "python3"
  },
  "language_info": {
   "codemirror_mode": {
    "name": "ipython",
    "version": 3
   },
   "file_extension": ".py",
   "mimetype": "text/x-python",
   "name": "python",
   "nbconvert_exporter": "python",
   "pygments_lexer": "ipython3",
   "version": "3.8.10"
  }
 },
 "nbformat": 4,
 "nbformat_minor": 2
}
