{
 "cells": [
  {
   "cell_type": "markdown",
   "metadata": {},
   "source": [
    "# Exercícios realizados em sala de aula\n",
    "\n",
    "Esse arquivo contém a resolução de alguns exercícios apresentados durante as aulas da disciplina. Lembre-se, o comando “%%file” é utilizado pelo python para criar o arquivo com o código C em sua máquina local (no diretório onde este notebook está salvo). O arquivo .c criado é nomeado de acordo com o identificador que aparece após o comando “%%file”."
   ]
  },
  {
   "cell_type": "markdown",
   "metadata": {},
   "source": [
    "Aula 7 - Escreva um programa capaz de realizar as operações aritméticas básicas. O usuário irá informar dois números reais e em seguida a operação aritmética que deseja realizar (‘+’ ‘-’ ‘*’ ‘/’). O programa deve exibir o resultado da operação como saída. Implemente duas versões do programa, uma utilizando o comando switch case e outra utilizando a estrutura else if."
   ]
  },
  {
   "cell_type": "code",
   "execution_count": null,
   "metadata": {},
   "outputs": [],
   "source": [
    "%%file aula7Switch.c\n",
    "\n",
    "#include <stdio.h>\n",
    "\n",
    "int main(){\n",
    "\n",
    "    float op1, op2;\n",
    "    char operacao;\n",
    "\n",
    "    printf(\"informe os operandos\\n\");\n",
    "    scanf(\"%f %f\",&op1, &op2);\n",
    "\n",
    "    __fpurge(stdin);    //no windows utilize: fflush(stdin);\n",
    "\n",
    "    printf(\"informe a operação\\n\");\n",
    "    scanf(\"%c\",&operacao);\n",
    "    \n",
    "    switch(operacao){\n",
    "        case '+':\n",
    "            printf(\"soma: %f\\n\", op1 + op2);\n",
    "        break;\n",
    "\n",
    "        case '-':\n",
    "            printf(\"sub: %f\\n\", op1 - op2);\n",
    "        break;\n",
    "\n",
    "        case '*':\n",
    "            printf(\"mul: %f\\n\", op1 * op2);\n",
    "        break;\n",
    "\n",
    "        case '/':\n",
    "            printf(\"div: %f\\n\", op1 / op2);\n",
    "        break;\n",
    "\n",
    "        default:\n",
    "            printf(\"operação não é válida\\n\");     \n",
    "    }\n",
    "    \n",
    "    return 0;\n",
    "}"
   ]
  },
  {
   "cell_type": "code",
   "execution_count": null,
   "metadata": {},
   "outputs": [],
   "source": [
    "%%file aula7EsleIf.c\n",
    "\n",
    "#include <stdio.h>\n",
    "\n",
    "int main(){\n",
    "\n",
    "    float op1, op2;\n",
    "    char operacao;\n",
    "\n",
    "    printf(\"informe os operandos\\n\");\n",
    "    scanf(\"%f %f\",&op1, &op2);\n",
    "\n",
    "    __fpurge(stdin);    //no windows utilize: fflush(stdin);\n",
    "\n",
    "    printf(\"informe a operação\\n\");\n",
    "    scanf(\"%c\",&operacao);\n",
    "    \n",
    "    if (operacao == '+'){\n",
    "        printf(\"soma: %f\\n\", op1 + op2);\n",
    "    }\n",
    "    else if (operacao == '-'){\n",
    "        printf(\"sub: %f\\n\", op1 - op2);\n",
    "    }\n",
    "    else if (operacao == '*'){\n",
    "        printf(\"mul: %f\\n\", op1 * op2);\n",
    "    }\n",
    "    else if (operacao == '/'){\n",
    "        printf(\"div: %f\\n\", op1 / op2);\n",
    "    }\n",
    "    else{\n",
    "        printf(\"operação não é válida\\n\");\n",
    "    }\n",
    "    \n",
    "    return 0;\n",
    "}"
   ]
  }
 ],
 "metadata": {
  "kernelspec": {
   "display_name": "Python 3",
   "language": "python",
   "name": "python3"
  },
  "language_info": {
   "codemirror_mode": {
    "name": "ipython",
    "version": 3
   },
   "file_extension": ".py",
   "mimetype": "text/x-python",
   "name": "python",
   "nbconvert_exporter": "python",
   "pygments_lexer": "ipython3",
   "version": "3.8.10"
  }
 },
 "nbformat": 4,
 "nbformat_minor": 2
}
