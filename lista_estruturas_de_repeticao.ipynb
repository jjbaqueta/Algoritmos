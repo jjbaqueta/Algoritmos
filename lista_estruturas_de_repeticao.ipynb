{
 "cells": [
  {
   "cell_type": "markdown",
   "metadata": {},
   "source": [
    "# Lista de exercícios: comandos de repetição\n",
    "\n",
    "Esse arquivo contém a resolução dos exercícios da lista 7. \n",
    "\n",
    "Lembre-se, o comando “%%file” é utilizado pelo python para criar o arquivo com o código C em sua máquina local (no diretório onde este notebook está salvo). O arquivo .c criado é nomeado de acordo com o identificador que aparece após o comando “%%file”."
   ]
  },
  {
   "cell_type": "markdown",
   "metadata": {},
   "source": [
    "3) Faça um programa que receba como entrada um valor inteiro de 1 até 10. Após ler essa informação, exiba a tabuada do número informado. Exemplo: se o usuário informar 8 seu programa irá exibir a tabuada do 8."
   ]
  },
  {
   "cell_type": "code",
   "execution_count": null,
   "metadata": {},
   "outputs": [],
   "source": [
    "%%file lista7Exer3.c\n",
    "\n",
    "#include <stdio.h>\n",
    "\n",
    "int main(){\n",
    "\n",
    "    int num; \n",
    "    int i = 1;  //Contador de laço\n",
    "\n",
    "    printf(\"informe um número (de 0 a 10)\\n\");\n",
    "    scanf(\"%d\",&num);\n",
    "\n",
    "    printf(\"\\nSolução baseada em DO WHILE:\\n\");\n",
    "    do{\n",
    "        printf(\"%d x %d = %d\\n\", num, i, num * i);\n",
    "        i++;\n",
    "    }while(i <= 10);\n",
    "    \n",
    "    i = 0;  //Reinicia o contador de laço antes da próxima contagem\n",
    "\n",
    "    printf(\"\\nSolução baseada em WHILE:\\n\");\n",
    "    while(i <= 10){\n",
    "        printf(\"%d x %d = %d\\n\", num, i, num * i);\n",
    "        i++;\n",
    "    }\n",
    "\n",
    "    printf(\"\\nSolução baseada em FOR:\\n\");\n",
    "    for(i = 0; i <= 10; i++){\n",
    "        printf(\"%d x %d = %d\\n\", num, i, num * i);\n",
    "    }\n",
    "    \n",
    "    return 0;\n",
    "}"
   ]
  }
 ],
 "metadata": {
  "kernelspec": {
   "display_name": "Python 3",
   "language": "python",
   "name": "python3"
  },
  "language_info": {
   "codemirror_mode": {
    "name": "ipython",
    "version": 3
   },
   "file_extension": ".py",
   "mimetype": "text/x-python",
   "name": "python",
   "nbconvert_exporter": "python",
   "pygments_lexer": "ipython3",
   "version": "3.8.10"
  }
 },
 "nbformat": 4,
 "nbformat_minor": 2
}
