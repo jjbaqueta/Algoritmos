{
 "cells": [
  {
   "cell_type": "markdown",
   "metadata": {},
   "source": [
    "# Seleção múltipla\n",
    "\n",
    "Escreva um programa capaz de realizar as operações aritméticas básicas. O usuário irá informar dois números reais e em seguida a operação aritmética que deseja realizar ('+', '-', '*' ou '/'). O programa deve exibir o resultado da operação como saída. Implemente duas versões do programa, uma utilizando o comando switch case e outra utilizando a estrutura else if."
   ]
  },
  {
   "cell_type": "code",
   "execution_count": 1,
   "metadata": {},
   "outputs": [
    {
     "name": "stdout",
     "output_type": "stream",
     "text": [
      "Writing selMult1.c\n"
     ]
    }
   ],
   "source": [
    "%%file selMult1.c\n",
    "#include <stdio.h>\n",
    "\n",
    "int main(){\n",
    "    \n",
    "    char operacao = ' ';\n",
    "    float op1, op2, resultado;\n",
    "\n",
    "    printf(\"Informe os operandos 1\\n\");\n",
    "    scanf(\"%f %f\",&op1, &op2);\n",
    "\n",
    "    __fpurge(stdin);\n",
    "    //use fflush(stdin) no windows\n",
    "\n",
    "    printf(\"Informe a operação (+, -, * ou /)\\n\");\n",
    "    scanf(\"%c\",&operacao);\n",
    "\n",
    "    printf(\"operandos: %f, %f\\n\", op1, op2);\n",
    "    printf(\"operação: %c \\n\", operacao);\n",
    "\n",
    "    switch(operacao){\n",
    "        case '+':\n",
    "            resultado = op1 + op2;\n",
    "        break;\n",
    "\n",
    "        case '-':\n",
    "            resultado = op1 - op2;\n",
    "        break;\n",
    "\n",
    "        case '*':\n",
    "            resultado = op1 * op2;\n",
    "        break;\n",
    "\n",
    "        case '/':\n",
    "            resultado = op1 / op2;\n",
    "        break;\n",
    "        \n",
    "        default:\n",
    "            printf(\"operação inválida\");\n",
    "    }\n",
    "    \n",
    "    printf(\"resultado: %f\\n\", resultado);   \n",
    "}"
   ]
  },
  {
   "cell_type": "markdown",
   "metadata": {},
   "source": [
    "O código apresentado acima apresenta a solução do problema usando a estrutura switch case. "
   ]
  },
  {
   "cell_type": "code",
   "execution_count": 2,
   "metadata": {
    "scrolled": true
   },
   "outputs": [
    {
     "name": "stdout",
     "output_type": "stream",
     "text": [
      "Informe os operandos 1\n",
      "Informe a operação (+, -, * ou /)\n",
      "operandos: 0.000000, 0.000000\n",
      "operação:   \n",
      "operação inválidaresultado: 0.000000\n"
     ]
    },
    {
     "name": "stderr",
     "output_type": "stream",
     "text": [
      "selMult1.c: In function ‘main’:\n",
      "selMult1.c:11:5: warning: implicit declaration of function ‘__fpurge’ [-Wimplicit-function-declaration]\n",
      "   11 |     __fpurge(stdin);\n",
      "      |     ^~~~~~~~\n"
     ]
    }
   ],
   "source": [
    "%%bash\n",
    "gcc selMult1.c -o programa\n",
    "./programa"
   ]
  },
  {
   "cell_type": "markdown",
   "metadata": {},
   "source": [
    "A solução alternativa baseada na estrutura else if é apresentada abaixo."
   ]
  },
  {
   "cell_type": "code",
   "execution_count": null,
   "metadata": {},
   "outputs": [],
   "source": [
    "%%file selMult2.c\n",
    "#include <stdio.h>\n",
    "\n",
    "int main(){\n",
    "    \n",
    "    char operacao = ' ';\n",
    "    float op1, op2, resultado;\n",
    "\n",
    "    printf(\"Informe os operandos 1\\n\");\n",
    "    scanf(\"%f %f\",&op1, &op2);\n",
    "\n",
    "    __fpurge(stdin);\n",
    "    //use fflush(stdin) no windows\n",
    "\n",
    "    printf(\"Informe a operação (+, -, * ou /)\\n\");\n",
    "    scanf(\"%c\",&operacao);\n",
    "\n",
    "    printf(\"operandos: %f, %f\\n\", op1, op2);\n",
    "    printf(\"operação: %c \\n\", operacao);\n",
    "\n",
    "    if (operacao == '+'){\n",
    "        resultado = op1 + op2;\n",
    "    }\n",
    "    else if (operacao == '-'){\n",
    "        resultado = op1 - op2;\n",
    "    }\n",
    "    else if (operacao == '*'){\n",
    "        resultado = op1 * op2;\n",
    "    }\n",
    "    else if (operacao == '/'){\n",
    "        resultado = op1 / op2;\n",
    "    }\n",
    "    else {\n",
    "        printf(\"operação inválida\");\n",
    "    }\n",
    "   \n",
    "    printf(\"resultado: %f\\n\", resultado);   \n",
    "}"
   ]
  },
  {
   "cell_type": "code",
   "execution_count": null,
   "metadata": {},
   "outputs": [],
   "source": [
    "%%bash\n",
    "gcc selMult2.c -o programa\n",
    "./programa"
   ]
  }
 ],
 "metadata": {
  "kernelspec": {
   "display_name": "Python 3",
   "language": "python",
   "name": "python3"
  },
  "language_info": {
   "codemirror_mode": {
    "name": "ipython",
    "version": 3
   },
   "file_extension": ".py",
   "mimetype": "text/x-python",
   "name": "python",
   "nbconvert_exporter": "python",
   "pygments_lexer": "ipython3",
   "version": "3.8.10"
  }
 },
 "nbformat": 4,
 "nbformat_minor": 2
}
